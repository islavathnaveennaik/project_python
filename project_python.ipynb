{
  "nbformat": 4,
  "nbformat_minor": 0,
  "metadata": {
    "colab": {
      "provenance": [],
      "authorship_tag": "ABX9TyNJalTleJ+0jYb3kMpw6vEx",
      "include_colab_link": true
    },
    "kernelspec": {
      "name": "python3",
      "display_name": "Python 3"
    },
    "language_info": {
      "name": "python"
    }
  },
  "cells": [
    {
      "cell_type": "markdown",
      "metadata": {
        "id": "view-in-github",
        "colab_type": "text"
      },
      "source": [
        "<a href=\"https://colab.research.google.com/github/islavathnaveennaik/project_python/blob/main/project_python.ipynb\" target=\"_parent\"><img src=\"https://colab.research.google.com/assets/colab-badge.svg\" alt=\"Open In Colab\"/></a>"
      ]
    },
    {
      "cell_type": "markdown",
      "source": [
        "#Python Registration and Login System Project\n"
      ],
      "metadata": {
        "id": "RuRkOAfEoIdS"
      }
    },
    {
      "cell_type": "code",
      "source": [
        "\"\"\"\n",
        "Project Description: Developed a strong consumer authentication machine in Python offering registration, login, and password recuperation using file coping with techniques.\n",
        "\n",
        "Key Features:\n",
        "\n",
        "Registration Validation: Implemented strict electronic mail/username validation, making sure proper format with rules along with no main special characters or numbers, right \"@\" and \".\" placement.\n",
        "Password Security: Enforced steady password standards, consisting of period constraints (6-16 characters) and necessities for at least one unique character, digit, uppercase, and lowercase letter.\n",
        "Data Storage: Utilized Python document dealing with to soundly shop person credentials for continual information control.\n",
        "Login Authentication: Verified person credentials towards stored records with options for registration, password retrieval, and password update if present credentials matched.\n",
        "Technical Skills: Python, record coping with, string manipulation, validation, conditional common sense.\"\"\""
      ],
      "metadata": {
        "id": "PddLZidInSAq"
      },
      "execution_count": null,
      "outputs": []
    },
    {
      "cell_type": "code",
      "source": [
        "\"\"\"Stage 1: Registration\n",
        "Username Validation:\n",
        "Pattern:\n",
        "Must contain \"@\" and at least one \".\" after the \"@\".\n",
        "No special characters or numbers at the beginning.\n",
        "No \".\" immediately following the \"@\".\n",
        "Example of valid usernames: sherlock@gmail.com, nothing@yahoo.in.\n",
        "Example of invalid usernames: @gmail.com, my@.in, 123#@gmail.com.\n",
        "Password Validation:\n",
        "Criteria:\n",
        "Length should be between 6 and 16 characters.\n",
        "Must include at least one uppercase letter, one lowercase letter, one digit, and one special character.\n",
        "Implementation:\n",
        "Prompt the user to enter a username and password.\n",
        "Validate the username and password based on the criteria above.\n",
        "If valid, proceed to Stage 2; if invalid, display an appropriate error message and re-prompt.\"\"\"\n"
      ],
      "metadata": {
        "id": "HOEjq4vhnul-"
      },
      "execution_count": null,
      "outputs": []
    },
    {
      "cell_type": "code",
      "source": [
        "\"\"\"Stage 2: Storing Data\n",
        "Once the username and password are validated, store them in a file.\n",
        "Store data in a structured format, like username:password, so it can be easily retrieved.\"\"\""
      ],
      "metadata": {
        "id": "ImzchYmgn2_b"
      },
      "execution_count": null,
      "outputs": []
    },
    {
      "cell_type": "code",
      "source": [
        "\"\"\"Stage 3: Login\n",
        "User Login:\n",
        "Prompt the user to enter their username and password.\n",
        "Check if the credentials match any entry in the file.\n",
        "If Credentials Match:\n",
        "Grant access and complete the login process.\n",
        "If Credentials Do Not Match:\n",
        "Ask the user if they would like to:\n",
        "Register if they don’t have an account.\n",
        "Forget Password if they have an account but forgot their password.\n",
        "Forgot Password Option:\n",
        "Prompt for their username.\n",
        "If the username exists, retrieve and display the original password or allow them to set a new password.\n",
        "If Username Not Found:\n",
        "Prompt the user to register since they don’t have an account.\"\"\"\n"
      ],
      "metadata": {
        "id": "_HYtw_cgn-PX"
      },
      "execution_count": null,
      "outputs": []
    },
    {
      "cell_type": "code",
      "execution_count": null,
      "metadata": {
        "id": "zms7qYHAhPu-"
      },
      "outputs": [],
      "source": [
        "import re\n",
        "\n",
        "def validate_username(username):\n",
        "    \"\"\"Validates the username based on the specified criteria.\"\"\"\n",
        "    if not re.match(r\"^[a-zA-Z][a-zA-Z0-9._]*@[a-zA-Z0-9]+\\.[a-zA-Z]{2,}$\", username):\n",
        "      return False\n",
        "    if username.startswith((\".\", \"@\")):\n",
        "        return False\n",
        "    if \"@.\" in username:\n",
        "        return False\n",
        "    return True\n",
        "\n",
        "\n",
        "def validate_password(password):\n",
        "    \"\"\"Validates the password based on the specified criteria.\"\"\"\n",
        "    if not (6 <= len(password) <= 16):\n",
        "        return False\n",
        "    if not re.search(r\"[a-z]\", password):\n",
        "        return False\n",
        "    if not re.search(r\"[A-Z]\", password):\n",
        "        return False\n",
        "    if not re.search(r\"[0-9]\", password):\n",
        "        return False\n",
        "    if not re.search(r\"[^a-zA-Z0-9]\", password):  # Special character\n",
        "        return False\n",
        "    return True\n",
        "\n",
        "def register_user():\n",
        "    \"\"\"Handles user registration.\"\"\"\n",
        "    while True:\n",
        "        username = input(\"Enter a username: \")\n",
        "        if not validate_username(username):\n",
        "            print(\"Invalid username. Please follow the username criteria.\")\n",
        "            continue\n",
        "\n",
        "        password = input(\"Enter a password: \")\n",
        "        if not validate_password(password):\n",
        "            print(\"Invalid password. Please follow the password criteria.\")\n",
        "            continue\n",
        "\n",
        "        try:\n",
        "            with open(\"user_credentials.txt\", \"a\") as file:\n",
        "                file.write(f\"{username}:{password}\\n\")\n",
        "            print(\"Registration successful!\")\n",
        "            return  # Exit registration loop after successful registration\n",
        "        except Exception as e:\n",
        "            print(f\"An error occurred during registration: {e}\")\n",
        "\n",
        "\n",
        "def login_user():\n",
        "    \"\"\"Handles user login.\"\"\"\n",
        "    while True:\n",
        "        username = input(\"Enter your username: \")\n",
        "        password = input(\"Enter your password: \")\n",
        "\n",
        "        try:\n",
        "            with open(\"user_credentials.txt\", \"r\") as file:\n",
        "                for line in file:\n",
        "                    stored_username, stored_password = line.strip().split(\":\")\n",
        "                    if username == stored_username and password == stored_password:\n",
        "                        print(\"Login successful!\")\n",
        "                        return  # Exit login loop after successful login\n",
        "            print(\"Invalid username or password.\")\n",
        "\n",
        "            login_choice = input(\"Do you want to register (r) or recover your password (p)? (r/p): \").lower()\n",
        "            if login_choice == 'r':\n",
        "                register_user() # Call register if user chooses to register\n",
        "                return # Exit login loop after registration\n",
        "            elif login_choice == 'p':\n",
        "                recover_password()\n",
        "                return # Exit login loop after password recovery\n",
        "            else:\n",
        "                print(\"Invalid choice. Please enter 'r' or 'p'.\")\n",
        "\n",
        "\n",
        "        except FileNotFoundError:\n",
        "            print(\"No user credentials file found. Please register.\")\n",
        "            register_user()\n",
        "            return\n",
        "        except Exception as e:\n",
        "            print(f\"An error occurred during login: {e}\")\n",
        "\n",
        "def recover_password():\n",
        "    \"\"\"Handles password recovery.\"\"\"\n",
        "    username = input(\"Enter the username for password recovery: \")\n",
        "    try:\n",
        "        with open(\"user_credentials.txt\", \"r\") as file:\n",
        "            for line in file:\n",
        "                stored_username, stored_password = line.strip().split(\":\")\n",
        "                if username == stored_username:\n",
        "                    print(f\"Your password is: {stored_password}\") #In a real application, you would never do this. Instead, you would send a reset link to the user's email.\n",
        "                    return\n",
        "        print(\"Username not found.\")\n",
        "    except FileNotFoundError:\n",
        "        print(\"No user credentials file found.\")\n",
        "    except Exception as e:\n",
        "        print(f\"An error occurred during password recovery: {e}\")\n",
        "\n",
        "\n",
        "\n",
        "# Main program loop\n",
        "while True:\n",
        "    choice = input(\"Do you want to register (r) or login (l)? (r/l): \").lower()\n",
        "\n",
        "    if choice == 'r':\n",
        "        register_user()\n",
        "    elif choice == 'l':\n",
        "        login_user()\n",
        "    else:\n",
        "        print(\"Invalid choice. Please enter 'r' or 'l'.\")"
      ]
    }
  ]
}